{
 "cells": [
  {
   "cell_type": "code",
   "execution_count": 6,
   "id": "dd4cf763",
   "metadata": {},
   "outputs": [
    {
     "name": "stdout",
     "output_type": "stream",
     "text": [
      "Please enter a number: 11111111111\n",
      "This is invalid number please try again.\n",
      "Please enter a number (the number needs to be 10 digits): ^^^^^^\n",
      "This is invalid number please try again.\n",
      "Please enter a number (the number needs to be 10 digits): Amal\n",
      "This is invalid number please try again.\n",
      "Please enter a number (the number needs to be 10 digits): 5555555555\n",
      "The owner is:  Rawan\n"
     ]
    }
   ],
   "source": [
    "\"\"\"\n",
    "Dictionary\n",
    "Build a phone book program that receives the phone number, and returns the name of the owner.\n",
    "\n",
    "You can follow the table below:\n",
    "Name\tNumber\n",
    "Amal\t1111111111\n",
    "Mohammed\t2222222222\n",
    "Khadijah\t3333333333\n",
    "Abdullah\t4444444444\n",
    "Rawan\t5555555555\n",
    "Faisal\t6666666666\n",
    "Layla\t7777777777\n",
    "If the number exists, print the owner. Otherwise, print \"Sorry, the number is not found\".\n",
    "If the number is less or more than 10 numbers, print \"This is invalid number\".\n",
    "If the number contains letters or symbols, print \"This is invalid number\".\n",
    "\"\"\"\n",
    "#dictionary of the numbers and their owners\n",
    "phonebook={\n",
    "    \"entry1\":{\"Name\": \"Amal\", \"Number\": 1111111111},\n",
    "    \"entry2\":{\"Name\": \"Mohammed\", \"Number\": 2222222222},\n",
    "    \"entry3\":{\"Name\": \"Khadijah\", \"Number\": 3333333333},\n",
    "    \"entry4\":{\"Name\": \"Abdullah\", \"Number\": 4444444444},\n",
    "    \"entry5\":{\"Name\": \"Rawan\", \"Number\": 5555555555},\n",
    "    \"entry6\":{\"Name\": \"Faisal\", \"Number\": 6666666666},\n",
    "    \"entry7\":{\"Name\": \"Layla\", \"Number\": 7777777777}\n",
    "}\n",
    "\n",
    "#function for checking if the valid entered number is there or not\n",
    "def checkNumber(phonebook, userInput):\n",
    "    #a loop to iterate through the dictionary\n",
    "    for entries in phonebook:\n",
    "        #checking if the number of the entry matches with our stored phonebook\n",
    "        if phonebook[entries][\"Number\"]==userInput:\n",
    "            #if there is a match, return a statement with the numbers owner\n",
    "            return print(\"The owner is: \", phonebook[entries][\"Name\"])\n",
    "    #if the loop ends with no matches found, inform the user    \n",
    "    return print(\"Sorry, the number is not found\")\n",
    "\n",
    "#getting the user input\n",
    "userInput=input(\"Please enter a number: \")\n",
    "#remove white spaces\n",
    "userInput=userInput.strip()\n",
    "#if the user did not enter the correct format for the number trap them in a while loop until they enter it correctly\n",
    "while len(userInput)!=10 or userInput.isdigit()==False:\n",
    "    print(\"This is invalid number please try again.\")\n",
    "    userInput=input(\"Please enter a number (the number needs to be 10 digits): \")\n",
    "#enter the number with the valid format in the \"checkNumber\" function    \n",
    "checkNumber(phonebook, int(userInput))\n",
    "\n",
    "\n",
    "    "
   ]
  }
 ],
 "metadata": {
  "kernelspec": {
   "display_name": "Python 3 (ipykernel)",
   "language": "python",
   "name": "python3"
  },
  "language_info": {
   "codemirror_mode": {
    "name": "ipython",
    "version": 3
   },
   "file_extension": ".py",
   "mimetype": "text/x-python",
   "name": "python",
   "nbconvert_exporter": "python",
   "pygments_lexer": "ipython3",
   "version": "3.9.12"
  }
 },
 "nbformat": 4,
 "nbformat_minor": 5
}
